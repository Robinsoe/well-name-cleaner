{
 "cells": [
  {
   "cell_type": "markdown",
   "metadata": {},
   "source": [
    "# Well Name Cleaner"
   ]
  },
  {
   "cell_type": "code",
   "execution_count": 1,
   "metadata": {},
   "outputs": [],
   "source": [
    "import pandas as pd\n",
    "import pymssql as psql\n",
    "# import cx_Oracle as cx\n",
    "import numpy as np\n",
    "import scipy.stats as stats\n",
    "import seaborn as sns\n",
    "import matplotlib.pyplot as plt\n",
    "import datetime as dt\n",
    "from scipy import interpolate, integrate\n",
    "from mpl_toolkits.mplot3d import Axes3D\n",
    "%matplotlib inline\n",
    "\n",
    "from datetime import date\n",
    "from dateutil.relativedelta import relativedelta\n",
    "from sklearn.linear_model import LinearRegression\n",
    "from sklearn.model_selection import GridSearchCV, RandomizedSearchCV, cross_val_score, train_test_split, KFold\n",
    "from sklearn.ensemble import RandomForestRegressor\n",
    "from sklearn import metrics"
   ]
  },
  {
   "cell_type": "code",
   "execution_count": 2,
   "metadata": {},
   "outputs": [],
   "source": [
    "pd.options.display.max_columns = None\n",
    "# pd.options.display.max_rows = None"
   ]
  },
  {
   "cell_type": "code",
   "execution_count": 3,
   "metadata": {},
   "outputs": [],
   "source": [
    "# Data Directory\n",
    "import os\n",
    "username=os.getlogin()\n",
    "data_dir='C:/Users/'+username+'/Documents/GitHub/well-name-cleaner/'\n",
    "# plk_data_dir='C:/Users/'+username+'/Documents/Data Eval/'"
   ]
  },
  {
   "cell_type": "code",
   "execution_count": 4,
   "metadata": {},
   "outputs": [],
   "source": [
    "# Update Queries\n",
    "ansr = False"
   ]
  },
  {
   "cell_type": "code",
   "execution_count": 5,
   "metadata": {},
   "outputs": [],
   "source": [
    "# Function for SQL to Dataframe\n",
    "def getSQLData(conType, conString, columnNames, sqlString, dataDir, dataFile\n",
    "               , updateLocal=False, indexCol=None, autoIndex=True):\n",
    "    \n",
    "    if updateLocal==True:\n",
    "        if conType == 'SQL Server': \n",
    "            con=psql.connect(conString[0],conString[1],conString[2],conString[3])\n",
    "        elif conType == 'Oracle':\n",
    "            con=cx.connect(conString)\n",
    "        cur=con.cursor()\n",
    "        cur.execute(sqlString)\n",
    "        fetchedData=cur.fetchall()\n",
    "        result=pd.DataFrame(fetchedData,columns=columnNames)\n",
    "        if not autoIndex:\n",
    "            result.set_index(indexCol,inplace=True)\n",
    "        cur.close()\n",
    "        con.close()\n",
    "        result.to_pickle(dataDir+dataFile)\n",
    "    if updateLocal==False:\n",
    "        try:\n",
    "            result=pd.read_pickle(dataDir+dataFile)\n",
    "            result.columns=columnNames\n",
    "        except IOError:\n",
    "            print('file '+dataFile+' not found')\n",
    "            if conType == 'SQL Server': \n",
    "                con=psql.connect(conString[0],conString[1],conString[2],conString[3])\n",
    "            elif conType == 'Oracle':\n",
    "                con=cx.connect(conString)\n",
    "            cur=con.cursor()\n",
    "            cur.execute(sqlString)\n",
    "            fetchedData=cur.fetchall()\n",
    "            result=pd.DataFrame(fetchedData,columns=columnNames)\n",
    "            if not autoIndex:\n",
    "                result.set_index(indexCol,inplace=True)\n",
    "            cur.close()\n",
    "            con.close()\n",
    "            result.to_pickle(dataDir+dataFile)\n",
    "    return result"
   ]
  },
  {
   "cell_type": "code",
   "execution_count": 6,
   "metadata": {},
   "outputs": [
    {
     "name": "stdout",
     "output_type": "stream",
     "text": [
      "file WellGenData.pkl not found\n",
      "collected well general info\n"
     ]
    }
   ],
   "source": [
    "data_file='WellGenData.pkl'\n",
    "\n",
    "con_type='SQL Server'\n",
    "\n",
    "con_string='CKCWBDA2','','',''\n",
    "\n",
    "col_names=[\n",
    "        'API_NO14','WELL_AUTO_NAME','WELL_COMMON_NAME','WELL_COMP_NAME','RESERVOIR'\n",
    "      ,'COMP_TYPE','WELL_STATUS','STATUS_DATE','MOP','WELL_ID'\n",
    "      ,'COMPLETION_ID','WELLBORE_ID','COST_CENTER','OPER_NO','ORG_SEQNO'\n",
    "      ,'RMT_TEAM','UNIT','GEO_OFFSET_EAST','GEO_OFFSET_NORTH','GEO_LATITUDE'\n",
    "      ,'GEO_LONGITUDE','WOA','TANK_SETTING','SOURCE'\n",
    "    ]\n",
    "    \n",
    "sql_string=\"\"\"\n",
    "    SELECT * FROM [BDADB].[dbo].[tbl_Well_Info_General_Detail]\n",
    "    \"\"\"\n",
    "\n",
    "dataWellInfo=getSQLData(con_type,con_string,col_names,sql_string,data_dir,data_file,updateLocal=ansr)\n",
    "print('collected well general info')"
   ]
  },
  {
   "cell_type": "code",
   "execution_count": 7,
   "metadata": {},
   "outputs": [
    {
     "name": "stdout",
     "output_type": "stream",
     "text": [
      "file WellXSPOCTestData.pkl not found\n",
      "collected XSPOC test info\n"
     ]
    }
   ],
   "source": [
    "data_file='WellXSPOCTestData.pkl'\n",
    "\n",
    "con_type='SQL Server'\n",
    "\n",
    "con_string='CKCWBDA2','','',''\n",
    "\n",
    "col_names=[\n",
    "        'NodeID','TestDate','Duration','OilRate','WaterRate'\n",
    "      ,'GasRate','TubingPressure','CasingPressure','Runtime','StrokeLength'\n",
    "      ,'FluidAbovePump','Pumpsize','SPM','FlowlineTemp','CasingTemp'\n",
    "      ,'WaterSG','OilAPIGravity','Approved','DateModified','UserID'\n",
    "      ,'CO2','FacilityName','SeparatorNumber','ZoneCode','TestCode'\n",
    "      ,'TotalFluidRate','WaterCut','HPGas','LPGas','CasingGas'\n",
    "      ,'GasLiftGas','GOR','PumpSpeed','FlowLinePressure','TubingTemp'\n",
    "      ,'PumpEfficiency','ChokeSize','WellTestFailCode','WellTestFailReason','PumpIntakePressure'\n",
    "      ,'PumpDischargePressure','PumpIntakeTemp','MotorTemp','DriveCurrent','DriveSpeed'\n",
    "      ,'RodRPM','RodTorque','TriplexDischargePressure','SuctionPressure','LinePressureToSetting'\n",
    "      ,'TestComment','ExportFlag','HighPressureGasRate','CasingGasRate','GasLiftGasRate'\n",
    "      ,'WaterCutMethod','WaterCutSource','TesterType','Source'\n",
    "    ]\n",
    "    \n",
    "sql_string=\"\"\"\n",
    "    SELECT * FROM [BDADB].[dbo].[tbl_Well_XSPOC_Test_Hist]\n",
    "    WHERE TestDate >= '01/01/2018'\n",
    "    \"\"\"\n",
    "\n",
    "dataXSPOC=getSQLData(con_type,con_string,col_names,sql_string,data_dir,data_file,updateLocal=ansr)\n",
    "print('collected XSPOC test info')"
   ]
  },
  {
   "cell_type": "code",
   "execution_count": 9,
   "metadata": {},
   "outputs": [],
   "source": [
    "# dataPI=pd.read_csv(data_dir+'PI Well Testing.csv')\n",
    "# print('collected process instruments info')"
   ]
  },
  {
   "cell_type": "code",
   "execution_count": 10,
   "metadata": {},
   "outputs": [
    {
     "name": "stdout",
     "output_type": "stream",
     "text": [
      "collected Lab Cut info\n"
     ]
    },
    {
     "name": "stderr",
     "output_type": "stream",
     "text": [
      "C:\\Users\\robinsoe\\AppData\\Local\\Continuum\\anaconda3\\lib\\site-packages\\IPython\\core\\interactiveshell.py:2785: DtypeWarning: Columns (6,7,9,10) have mixed types. Specify dtype option on import or set low_memory=False.\n",
      "  interactivity=interactivity, compiler=compiler, result=result)\n"
     ]
    }
   ],
   "source": [
    "dataLab=pd.read_csv(data_dir+'Lab Well Testing.csv', dtype={'Total Cut':np.float64})\n",
    "print('collected Lab Cut info')"
   ]
  },
  {
   "cell_type": "code",
   "execution_count": 11,
   "metadata": {},
   "outputs": [
    {
     "name": "stdout",
     "output_type": "stream",
     "text": [
      "collected PROS info\n"
     ]
    }
   ],
   "source": [
    "dataPROS=pd.read_csv(data_dir+'PROS Well Testing.csv')\n",
    "print('collected PROS info')"
   ]
  },
  {
   "cell_type": "markdown",
   "metadata": {},
   "source": [
    "## Evaluated Data"
   ]
  },
  {
   "cell_type": "code",
   "execution_count": 62,
   "metadata": {
    "scrolled": true
   },
   "outputs": [],
   "source": [
    "# dataWellInfo"
   ]
  },
  {
   "cell_type": "code",
   "execution_count": 63,
   "metadata": {},
   "outputs": [],
   "source": [
    "# dataXSPOC"
   ]
  },
  {
   "cell_type": "code",
   "execution_count": 64,
   "metadata": {},
   "outputs": [],
   "source": [
    "# dataLab"
   ]
  },
  {
   "cell_type": "code",
   "execution_count": 65,
   "metadata": {},
   "outputs": [],
   "source": [
    "# dataPROS"
   ]
  },
  {
   "cell_type": "code",
   "execution_count": null,
   "metadata": {},
   "outputs": [],
   "source": []
  },
  {
   "cell_type": "code",
   "execution_count": 51,
   "metadata": {},
   "outputs": [],
   "source": [
    "WellInfo_LH = dataWellInfo[(dataWellInfo['RMT_TEAM']=='LOST HILLS AREA')]"
   ]
  },
  {
   "cell_type": "code",
   "execution_count": 60,
   "metadata": {},
   "outputs": [
    {
     "data": {
      "text/html": [
       "<div>\n",
       "<style scoped>\n",
       "    .dataframe tbody tr th:only-of-type {\n",
       "        vertical-align: middle;\n",
       "    }\n",
       "\n",
       "    .dataframe tbody tr th {\n",
       "        vertical-align: top;\n",
       "    }\n",
       "\n",
       "    .dataframe thead th {\n",
       "        text-align: right;\n",
       "    }\n",
       "</style>\n",
       "<table border=\"1\" class=\"dataframe\">\n",
       "  <thead>\n",
       "    <tr style=\"text-align: right;\">\n",
       "      <th></th>\n",
       "      <th>API_NO14</th>\n",
       "      <th>WELL_AUTO_NAME</th>\n",
       "      <th>WELL_COMMON_NAME</th>\n",
       "      <th>WELL_COMP_NAME</th>\n",
       "      <th>RESERVOIR</th>\n",
       "      <th>COMP_TYPE</th>\n",
       "      <th>WELL_STATUS</th>\n",
       "      <th>STATUS_DATE</th>\n",
       "      <th>MOP</th>\n",
       "      <th>WELL_ID</th>\n",
       "      <th>COMPLETION_ID</th>\n",
       "      <th>WELLBORE_ID</th>\n",
       "      <th>COST_CENTER</th>\n",
       "      <th>OPER_NO</th>\n",
       "      <th>ORG_SEQNO</th>\n",
       "      <th>RMT_TEAM</th>\n",
       "      <th>UNIT</th>\n",
       "      <th>GEO_OFFSET_EAST</th>\n",
       "      <th>GEO_OFFSET_NORTH</th>\n",
       "      <th>GEO_LATITUDE</th>\n",
       "      <th>GEO_LONGITUDE</th>\n",
       "      <th>WOA</th>\n",
       "      <th>TANK_SETTING</th>\n",
       "      <th>SOURCE</th>\n",
       "    </tr>\n",
       "  </thead>\n",
       "  <tbody>\n",
       "    <tr>\n",
       "      <th>306</th>\n",
       "      <td>04030137310100</td>\n",
       "      <td>11EEW-H21RD1</td>\n",
       "      <td>SECTION 11 EEW-H21</td>\n",
       "      <td>SECTION 11 EEW-H21 RD1</td>\n",
       "      <td>ETCH/W</td>\n",
       "      <td>PROD_OIL</td>\n",
       "      <td>INACTIVE</td>\n",
       "      <td>2014-05-07 00:00:00.0000000</td>\n",
       "      <td>PROG_CAVITY</td>\n",
       "      <td>GsOL7Yyj5a</td>\n",
       "      <td>QReiwlGlGi</td>\n",
       "      <td>5mIvNqtFmm</td>\n",
       "      <td>70400160.0</td>\n",
       "      <td>999115.0</td>\n",
       "      <td>1001010301</td>\n",
       "      <td>LOST HILLS AREA</td>\n",
       "      <td>NON UNIT</td>\n",
       "      <td>1.471014e+06</td>\n",
       "      <td>799337.635475</td>\n",
       "      <td>35.683474</td>\n",
       "      <td>-119.781124</td>\n",
       "      <td>None</td>\n",
       "      <td>None</td>\n",
       "      <td>EKPSPP</td>\n",
       "    </tr>\n",
       "  </tbody>\n",
       "</table>\n",
       "</div>"
      ],
      "text/plain": [
       "           API_NO14 WELL_AUTO_NAME    WELL_COMMON_NAME  \\\n",
       "306  04030137310100   11EEW-H21RD1  SECTION 11 EEW-H21   \n",
       "\n",
       "             WELL_COMP_NAME RESERVOIR COMP_TYPE WELL_STATUS  \\\n",
       "306  SECTION 11 EEW-H21 RD1    ETCH/W  PROD_OIL    INACTIVE   \n",
       "\n",
       "                     STATUS_DATE          MOP     WELL_ID COMPLETION_ID  \\\n",
       "306  2014-05-07 00:00:00.0000000  PROG_CAVITY  GsOL7Yyj5a    QReiwlGlGi   \n",
       "\n",
       "    WELLBORE_ID  COST_CENTER   OPER_NO   ORG_SEQNO         RMT_TEAM      UNIT  \\\n",
       "306  5mIvNqtFmm   70400160.0  999115.0  1001010301  LOST HILLS AREA  NON UNIT   \n",
       "\n",
       "     GEO_OFFSET_EAST  GEO_OFFSET_NORTH  GEO_LATITUDE  GEO_LONGITUDE   WOA  \\\n",
       "306     1.471014e+06     799337.635475     35.683474    -119.781124  None   \n",
       "\n",
       "    TANK_SETTING  SOURCE  \n",
       "306         None  EKPSPP  "
      ]
     },
     "execution_count": 60,
     "metadata": {},
     "output_type": "execute_result"
    }
   ],
   "source": [
    "WellInfo_LH.head(1)"
   ]
  },
  {
   "cell_type": "code",
   "execution_count": 46,
   "metadata": {},
   "outputs": [],
   "source": [
    "PROS_LH = dataPROS[(dataPROS['Lease']=='Lost Hills')]"
   ]
  },
  {
   "cell_type": "code",
   "execution_count": 61,
   "metadata": {},
   "outputs": [
    {
     "data": {
      "text/html": [
       "<div>\n",
       "<style scoped>\n",
       "    .dataframe tbody tr th:only-of-type {\n",
       "        vertical-align: middle;\n",
       "    }\n",
       "\n",
       "    .dataframe tbody tr th {\n",
       "        vertical-align: top;\n",
       "    }\n",
       "\n",
       "    .dataframe thead th {\n",
       "        text-align: right;\n",
       "    }\n",
       "</style>\n",
       "<table border=\"1\" class=\"dataframe\">\n",
       "  <thead>\n",
       "    <tr style=\"text-align: right;\">\n",
       "      <th></th>\n",
       "      <th>Company</th>\n",
       "      <th>WellName</th>\n",
       "      <th>Lease</th>\n",
       "      <th>ObjectType</th>\n",
       "      <th>Separator</th>\n",
       "      <th>TestDate</th>\n",
       "      <th>BSW</th>\n",
       "      <th>Oil Gravity</th>\n",
       "      <th>Water Gravity</th>\n",
       "      <th>% Sand - Start</th>\n",
       "      <th>Separator PSI</th>\n",
       "      <th>Separator Temp</th>\n",
       "      <th>BPD-G</th>\n",
       "      <th>BPD-W</th>\n",
       "      <th>BPD-N</th>\n",
       "      <th>Well Status</th>\n",
       "      <th>Strokes Per Minute</th>\n",
       "      <th>Stroke Length</th>\n",
       "      <th>Choke 64ths - Start</th>\n",
       "      <th>TBG Temp - Start</th>\n",
       "      <th>TBG PSIG</th>\n",
       "      <th>CSG PSIG - Start</th>\n",
       "      <th>Line PSIG - Start</th>\n",
       "      <th>Flow - MCFD</th>\n",
       "      <th>GOR</th>\n",
       "      <th>TestType</th>\n",
       "      <th>RequestersName</th>\n",
       "      <th>Request Date</th>\n",
       "    </tr>\n",
       "  </thead>\n",
       "  <tbody>\n",
       "    <tr>\n",
       "      <th>0</th>\n",
       "      <td>California Heavy Oil</td>\n",
       "      <td>2 JT-F11</td>\n",
       "      <td>Lost Hills</td>\n",
       "      <td>2 Phase 24 Hour</td>\n",
       "      <td>20528-228-41S</td>\n",
       "      <td>9/20/2013 0:00</td>\n",
       "      <td>56.68</td>\n",
       "      <td>14.7</td>\n",
       "      <td>9.8</td>\n",
       "      <td>0.0</td>\n",
       "      <td>137.37</td>\n",
       "      <td>83</td>\n",
       "      <td>1.61</td>\n",
       "      <td>0.91</td>\n",
       "      <td>0.7</td>\n",
       "      <td>Rod Pump</td>\n",
       "      <td>8.18</td>\n",
       "      <td>37</td>\n",
       "      <td>NaN</td>\n",
       "      <td>96</td>\n",
       "      <td>95</td>\n",
       "      <td>-4 PSI/90*F</td>\n",
       "      <td>90</td>\n",
       "      <td>0.0</td>\n",
       "      <td>NaN</td>\n",
       "      <td>Gross</td>\n",
       "      <td>NaN</td>\n",
       "      <td>NaN</td>\n",
       "    </tr>\n",
       "  </tbody>\n",
       "</table>\n",
       "</div>"
      ],
      "text/plain": [
       "                Company  WellName       Lease       ObjectType      Separator  \\\n",
       "0  California Heavy Oil  2 JT-F11  Lost Hills  2 Phase 24 Hour  20528-228-41S   \n",
       "\n",
       "         TestDate    BSW  Oil Gravity  Water Gravity  % Sand - Start  \\\n",
       "0  9/20/2013 0:00  56.68         14.7            9.8             0.0   \n",
       "\n",
       "   Separator PSI Separator Temp  BPD-G BPD-W BPD-N Well Status  \\\n",
       "0         137.37             83   1.61  0.91   0.7    Rod Pump   \n",
       "\n",
       "  Strokes Per Minute Stroke Length Choke 64ths - Start TBG Temp - Start  \\\n",
       "0               8.18            37                 NaN               96   \n",
       "\n",
       "  TBG PSIG CSG PSIG - Start Line PSIG - Start  Flow - MCFD  GOR TestType  \\\n",
       "0       95      -4 PSI/90*F                90          0.0  NaN    Gross   \n",
       "\n",
       "  RequestersName  Request Date  \n",
       "0            NaN           NaN  "
      ]
     },
     "execution_count": 61,
     "metadata": {},
     "output_type": "execute_result"
    }
   ],
   "source": [
    "PROS_LH.head(1)"
   ]
  },
  {
   "cell_type": "code",
   "execution_count": null,
   "metadata": {},
   "outputs": [],
   "source": []
  },
  {
   "cell_type": "code",
   "execution_count": null,
   "metadata": {},
   "outputs": [],
   "source": []
  },
  {
   "cell_type": "code",
   "execution_count": null,
   "metadata": {},
   "outputs": [],
   "source": []
  },
  {
   "cell_type": "code",
   "execution_count": 55,
   "metadata": {},
   "outputs": [],
   "source": [
    "merged_data = pd.merge(PROS_LH, WellInfo_LH, how='left', left_on='WellName', right_on='WELL_COMMON_NAME')"
   ]
  },
  {
   "cell_type": "code",
   "execution_count": 56,
   "metadata": {},
   "outputs": [
    {
     "data": {
      "text/html": [
       "<div>\n",
       "<style scoped>\n",
       "    .dataframe tbody tr th:only-of-type {\n",
       "        vertical-align: middle;\n",
       "    }\n",
       "\n",
       "    .dataframe tbody tr th {\n",
       "        vertical-align: top;\n",
       "    }\n",
       "\n",
       "    .dataframe thead th {\n",
       "        text-align: right;\n",
       "    }\n",
       "</style>\n",
       "<table border=\"1\" class=\"dataframe\">\n",
       "  <thead>\n",
       "    <tr style=\"text-align: right;\">\n",
       "      <th></th>\n",
       "      <th>Company</th>\n",
       "      <th>WellName</th>\n",
       "      <th>Lease</th>\n",
       "      <th>ObjectType</th>\n",
       "      <th>Separator</th>\n",
       "      <th>TestDate</th>\n",
       "      <th>BSW</th>\n",
       "      <th>Oil Gravity</th>\n",
       "      <th>Water Gravity</th>\n",
       "      <th>% Sand - Start</th>\n",
       "      <th>Separator PSI</th>\n",
       "      <th>Separator Temp</th>\n",
       "      <th>BPD-G</th>\n",
       "      <th>BPD-W</th>\n",
       "      <th>BPD-N</th>\n",
       "      <th>Well Status</th>\n",
       "      <th>Strokes Per Minute</th>\n",
       "      <th>Stroke Length</th>\n",
       "      <th>Choke 64ths - Start</th>\n",
       "      <th>TBG Temp - Start</th>\n",
       "      <th>TBG PSIG</th>\n",
       "      <th>CSG PSIG - Start</th>\n",
       "      <th>Line PSIG - Start</th>\n",
       "      <th>Flow - MCFD</th>\n",
       "      <th>GOR</th>\n",
       "      <th>TestType</th>\n",
       "      <th>RequestersName</th>\n",
       "      <th>Request Date</th>\n",
       "      <th>API_NO14</th>\n",
       "      <th>WELL_AUTO_NAME</th>\n",
       "      <th>WELL_COMMON_NAME</th>\n",
       "      <th>WELL_COMP_NAME</th>\n",
       "      <th>RESERVOIR</th>\n",
       "      <th>COMP_TYPE</th>\n",
       "      <th>WELL_STATUS</th>\n",
       "      <th>STATUS_DATE</th>\n",
       "      <th>MOP</th>\n",
       "      <th>WELL_ID</th>\n",
       "      <th>COMPLETION_ID</th>\n",
       "      <th>WELLBORE_ID</th>\n",
       "      <th>COST_CENTER</th>\n",
       "      <th>OPER_NO</th>\n",
       "      <th>ORG_SEQNO</th>\n",
       "      <th>RMT_TEAM</th>\n",
       "      <th>UNIT</th>\n",
       "      <th>GEO_OFFSET_EAST</th>\n",
       "      <th>GEO_OFFSET_NORTH</th>\n",
       "      <th>GEO_LATITUDE</th>\n",
       "      <th>GEO_LONGITUDE</th>\n",
       "      <th>WOA</th>\n",
       "      <th>TANK_SETTING</th>\n",
       "      <th>SOURCE</th>\n",
       "    </tr>\n",
       "  </thead>\n",
       "  <tbody>\n",
       "    <tr>\n",
       "      <th>0</th>\n",
       "      <td>California Heavy Oil</td>\n",
       "      <td>2 JT-F11</td>\n",
       "      <td>Lost Hills</td>\n",
       "      <td>2 Phase 24 Hour</td>\n",
       "      <td>20528-228-41S</td>\n",
       "      <td>9/20/2013 0:00</td>\n",
       "      <td>56.68</td>\n",
       "      <td>14.7</td>\n",
       "      <td>9.8</td>\n",
       "      <td>0.0</td>\n",
       "      <td>137.37</td>\n",
       "      <td>83</td>\n",
       "      <td>1.61</td>\n",
       "      <td>0.91</td>\n",
       "      <td>0.7</td>\n",
       "      <td>Rod Pump</td>\n",
       "      <td>8.18</td>\n",
       "      <td>37</td>\n",
       "      <td>NaN</td>\n",
       "      <td>96</td>\n",
       "      <td>95</td>\n",
       "      <td>-4 PSI/90*F</td>\n",
       "      <td>90</td>\n",
       "      <td>0.0</td>\n",
       "      <td>NaN</td>\n",
       "      <td>Gross</td>\n",
       "      <td>NaN</td>\n",
       "      <td>NaN</td>\n",
       "      <td>NaN</td>\n",
       "      <td>NaN</td>\n",
       "      <td>NaN</td>\n",
       "      <td>NaN</td>\n",
       "      <td>NaN</td>\n",
       "      <td>NaN</td>\n",
       "      <td>NaN</td>\n",
       "      <td>NaN</td>\n",
       "      <td>NaN</td>\n",
       "      <td>NaN</td>\n",
       "      <td>NaN</td>\n",
       "      <td>NaN</td>\n",
       "      <td>NaN</td>\n",
       "      <td>NaN</td>\n",
       "      <td>NaN</td>\n",
       "      <td>NaN</td>\n",
       "      <td>NaN</td>\n",
       "      <td>NaN</td>\n",
       "      <td>NaN</td>\n",
       "      <td>NaN</td>\n",
       "      <td>NaN</td>\n",
       "      <td>NaN</td>\n",
       "      <td>NaN</td>\n",
       "      <td>NaN</td>\n",
       "    </tr>\n",
       "    <tr>\n",
       "      <th>1</th>\n",
       "      <td>California Heavy Oil</td>\n",
       "      <td>2 BEW-O5</td>\n",
       "      <td>Lost Hills</td>\n",
       "      <td>2 Phase 24 Hour</td>\n",
       "      <td>20330-228-41S</td>\n",
       "      <td>9/20/2013 0:00</td>\n",
       "      <td>96.43</td>\n",
       "      <td>NaN</td>\n",
       "      <td>7.7</td>\n",
       "      <td>0.0</td>\n",
       "      <td>153.37</td>\n",
       "      <td>96</td>\n",
       "      <td>674.56</td>\n",
       "      <td>650.48</td>\n",
       "      <td>24.08</td>\n",
       "      <td>Rod Pump</td>\n",
       "      <td>10.33</td>\n",
       "      <td>100</td>\n",
       "      <td>NaN</td>\n",
       "      <td>99</td>\n",
       "      <td>110</td>\n",
       "      <td>-4 PSI/96*F</td>\n",
       "      <td>60</td>\n",
       "      <td>0.0</td>\n",
       "      <td>NaN</td>\n",
       "      <td>Gross</td>\n",
       "      <td>NaN</td>\n",
       "      <td>NaN</td>\n",
       "      <td>NaN</td>\n",
       "      <td>NaN</td>\n",
       "      <td>NaN</td>\n",
       "      <td>NaN</td>\n",
       "      <td>NaN</td>\n",
       "      <td>NaN</td>\n",
       "      <td>NaN</td>\n",
       "      <td>NaN</td>\n",
       "      <td>NaN</td>\n",
       "      <td>NaN</td>\n",
       "      <td>NaN</td>\n",
       "      <td>NaN</td>\n",
       "      <td>NaN</td>\n",
       "      <td>NaN</td>\n",
       "      <td>NaN</td>\n",
       "      <td>NaN</td>\n",
       "      <td>NaN</td>\n",
       "      <td>NaN</td>\n",
       "      <td>NaN</td>\n",
       "      <td>NaN</td>\n",
       "      <td>NaN</td>\n",
       "      <td>NaN</td>\n",
       "      <td>NaN</td>\n",
       "      <td>NaN</td>\n",
       "    </tr>\n",
       "    <tr>\n",
       "      <th>2</th>\n",
       "      <td>California Heavy Oil</td>\n",
       "      <td>2 ET-J12</td>\n",
       "      <td>Lost Hills</td>\n",
       "      <td>2 Phase 24 Hour</td>\n",
       "      <td>20274-270-40S</td>\n",
       "      <td>9/20/2013 0:00</td>\n",
       "      <td>86.67</td>\n",
       "      <td>NaN</td>\n",
       "      <td>8.9</td>\n",
       "      <td>0.0</td>\n",
       "      <td>125.72</td>\n",
       "      <td>97</td>\n",
       "      <td>21.83</td>\n",
       "      <td>18.92</td>\n",
       "      <td>2.91</td>\n",
       "      <td>Rod Pump</td>\n",
       "      <td>7.8</td>\n",
       "      <td>48</td>\n",
       "      <td>NaN</td>\n",
       "      <td>169</td>\n",
       "      <td>95</td>\n",
       "      <td>2 PSI/206*F</td>\n",
       "      <td>60</td>\n",
       "      <td>0.0</td>\n",
       "      <td>NaN</td>\n",
       "      <td>Gross</td>\n",
       "      <td>NaN</td>\n",
       "      <td>NaN</td>\n",
       "      <td>NaN</td>\n",
       "      <td>NaN</td>\n",
       "      <td>NaN</td>\n",
       "      <td>NaN</td>\n",
       "      <td>NaN</td>\n",
       "      <td>NaN</td>\n",
       "      <td>NaN</td>\n",
       "      <td>NaN</td>\n",
       "      <td>NaN</td>\n",
       "      <td>NaN</td>\n",
       "      <td>NaN</td>\n",
       "      <td>NaN</td>\n",
       "      <td>NaN</td>\n",
       "      <td>NaN</td>\n",
       "      <td>NaN</td>\n",
       "      <td>NaN</td>\n",
       "      <td>NaN</td>\n",
       "      <td>NaN</td>\n",
       "      <td>NaN</td>\n",
       "      <td>NaN</td>\n",
       "      <td>NaN</td>\n",
       "      <td>NaN</td>\n",
       "      <td>NaN</td>\n",
       "      <td>NaN</td>\n",
       "    </tr>\n",
       "    <tr>\n",
       "      <th>3</th>\n",
       "      <td>California Heavy Oil</td>\n",
       "      <td>12 AT-L5</td>\n",
       "      <td>Lost Hills</td>\n",
       "      <td>2 Phase 24 Hour</td>\n",
       "      <td>20288-228-40S</td>\n",
       "      <td>9/20/2013 0:00</td>\n",
       "      <td>62.36</td>\n",
       "      <td>11.9</td>\n",
       "      <td>8.6</td>\n",
       "      <td>0.0</td>\n",
       "      <td>131.07</td>\n",
       "      <td>88</td>\n",
       "      <td>18.74</td>\n",
       "      <td>11.69</td>\n",
       "      <td>7.05</td>\n",
       "      <td>Rod Pump</td>\n",
       "      <td>7.87</td>\n",
       "      <td>54</td>\n",
       "      <td>NaN</td>\n",
       "      <td>147</td>\n",
       "      <td>295</td>\n",
       "      <td>-1.5 PSI / 103*F</td>\n",
       "      <td>76</td>\n",
       "      <td>0.0</td>\n",
       "      <td>NaN</td>\n",
       "      <td>Gross</td>\n",
       "      <td>NaN</td>\n",
       "      <td>NaN</td>\n",
       "      <td>NaN</td>\n",
       "      <td>NaN</td>\n",
       "      <td>NaN</td>\n",
       "      <td>NaN</td>\n",
       "      <td>NaN</td>\n",
       "      <td>NaN</td>\n",
       "      <td>NaN</td>\n",
       "      <td>NaN</td>\n",
       "      <td>NaN</td>\n",
       "      <td>NaN</td>\n",
       "      <td>NaN</td>\n",
       "      <td>NaN</td>\n",
       "      <td>NaN</td>\n",
       "      <td>NaN</td>\n",
       "      <td>NaN</td>\n",
       "      <td>NaN</td>\n",
       "      <td>NaN</td>\n",
       "      <td>NaN</td>\n",
       "      <td>NaN</td>\n",
       "      <td>NaN</td>\n",
       "      <td>NaN</td>\n",
       "      <td>NaN</td>\n",
       "      <td>NaN</td>\n",
       "      <td>NaN</td>\n",
       "    </tr>\n",
       "    <tr>\n",
       "      <th>4</th>\n",
       "      <td>California Heavy Oil</td>\n",
       "      <td>12 AT-J4</td>\n",
       "      <td>Lost Hills</td>\n",
       "      <td>2 Phase 24 Hour</td>\n",
       "      <td>20288-228-40S</td>\n",
       "      <td>9/20/2013 0:00</td>\n",
       "      <td>59.95</td>\n",
       "      <td>11.7</td>\n",
       "      <td>8.5</td>\n",
       "      <td>0.0</td>\n",
       "      <td>142.07</td>\n",
       "      <td>98</td>\n",
       "      <td>4.97</td>\n",
       "      <td>2.98</td>\n",
       "      <td>1.99</td>\n",
       "      <td>Rod Pump</td>\n",
       "      <td>2.28</td>\n",
       "      <td>54</td>\n",
       "      <td>NaN</td>\n",
       "      <td>145</td>\n",
       "      <td>160</td>\n",
       "      <td>1 PSI / 204*F</td>\n",
       "      <td>76</td>\n",
       "      <td>0.0</td>\n",
       "      <td>NaN</td>\n",
       "      <td>Gross</td>\n",
       "      <td>NaN</td>\n",
       "      <td>NaN</td>\n",
       "      <td>NaN</td>\n",
       "      <td>NaN</td>\n",
       "      <td>NaN</td>\n",
       "      <td>NaN</td>\n",
       "      <td>NaN</td>\n",
       "      <td>NaN</td>\n",
       "      <td>NaN</td>\n",
       "      <td>NaN</td>\n",
       "      <td>NaN</td>\n",
       "      <td>NaN</td>\n",
       "      <td>NaN</td>\n",
       "      <td>NaN</td>\n",
       "      <td>NaN</td>\n",
       "      <td>NaN</td>\n",
       "      <td>NaN</td>\n",
       "      <td>NaN</td>\n",
       "      <td>NaN</td>\n",
       "      <td>NaN</td>\n",
       "      <td>NaN</td>\n",
       "      <td>NaN</td>\n",
       "      <td>NaN</td>\n",
       "      <td>NaN</td>\n",
       "      <td>NaN</td>\n",
       "      <td>NaN</td>\n",
       "    </tr>\n",
       "  </tbody>\n",
       "</table>\n",
       "</div>"
      ],
      "text/plain": [
       "                Company  WellName       Lease       ObjectType      Separator  \\\n",
       "0  California Heavy Oil  2 JT-F11  Lost Hills  2 Phase 24 Hour  20528-228-41S   \n",
       "1  California Heavy Oil  2 BEW-O5  Lost Hills  2 Phase 24 Hour  20330-228-41S   \n",
       "2  California Heavy Oil  2 ET-J12  Lost Hills  2 Phase 24 Hour  20274-270-40S   \n",
       "3  California Heavy Oil  12 AT-L5  Lost Hills  2 Phase 24 Hour  20288-228-40S   \n",
       "4  California Heavy Oil  12 AT-J4  Lost Hills  2 Phase 24 Hour  20288-228-40S   \n",
       "\n",
       "         TestDate    BSW  Oil Gravity  Water Gravity  % Sand - Start  \\\n",
       "0  9/20/2013 0:00  56.68         14.7            9.8             0.0   \n",
       "1  9/20/2013 0:00  96.43          NaN            7.7             0.0   \n",
       "2  9/20/2013 0:00  86.67          NaN            8.9             0.0   \n",
       "3  9/20/2013 0:00  62.36         11.9            8.6             0.0   \n",
       "4  9/20/2013 0:00  59.95         11.7            8.5             0.0   \n",
       "\n",
       "   Separator PSI Separator Temp   BPD-G   BPD-W  BPD-N Well Status  \\\n",
       "0         137.37             83    1.61    0.91    0.7    Rod Pump   \n",
       "1         153.37             96  674.56  650.48  24.08    Rod Pump   \n",
       "2         125.72             97   21.83   18.92   2.91    Rod Pump   \n",
       "3         131.07             88   18.74   11.69   7.05    Rod Pump   \n",
       "4         142.07             98    4.97    2.98   1.99    Rod Pump   \n",
       "\n",
       "  Strokes Per Minute Stroke Length Choke 64ths - Start TBG Temp - Start  \\\n",
       "0               8.18            37                 NaN               96   \n",
       "1              10.33           100                 NaN               99   \n",
       "2                7.8            48                 NaN              169   \n",
       "3               7.87            54                 NaN              147   \n",
       "4               2.28            54                 NaN              145   \n",
       "\n",
       "  TBG PSIG  CSG PSIG - Start Line PSIG - Start  Flow - MCFD  GOR TestType  \\\n",
       "0       95       -4 PSI/90*F                90          0.0  NaN    Gross   \n",
       "1      110       -4 PSI/96*F                60          0.0  NaN    Gross   \n",
       "2       95       2 PSI/206*F                60          0.0  NaN    Gross   \n",
       "3      295  -1.5 PSI / 103*F                76          0.0  NaN    Gross   \n",
       "4      160     1 PSI / 204*F                76          0.0  NaN    Gross   \n",
       "\n",
       "  RequestersName  Request Date API_NO14 WELL_AUTO_NAME WELL_COMMON_NAME  \\\n",
       "0            NaN           NaN      NaN            NaN              NaN   \n",
       "1            NaN           NaN      NaN            NaN              NaN   \n",
       "2            NaN           NaN      NaN            NaN              NaN   \n",
       "3            NaN           NaN      NaN            NaN              NaN   \n",
       "4            NaN           NaN      NaN            NaN              NaN   \n",
       "\n",
       "  WELL_COMP_NAME RESERVOIR COMP_TYPE WELL_STATUS STATUS_DATE  MOP WELL_ID  \\\n",
       "0            NaN       NaN       NaN         NaN         NaN  NaN     NaN   \n",
       "1            NaN       NaN       NaN         NaN         NaN  NaN     NaN   \n",
       "2            NaN       NaN       NaN         NaN         NaN  NaN     NaN   \n",
       "3            NaN       NaN       NaN         NaN         NaN  NaN     NaN   \n",
       "4            NaN       NaN       NaN         NaN         NaN  NaN     NaN   \n",
       "\n",
       "  COMPLETION_ID WELLBORE_ID  COST_CENTER  OPER_NO ORG_SEQNO RMT_TEAM UNIT  \\\n",
       "0           NaN         NaN          NaN      NaN       NaN      NaN  NaN   \n",
       "1           NaN         NaN          NaN      NaN       NaN      NaN  NaN   \n",
       "2           NaN         NaN          NaN      NaN       NaN      NaN  NaN   \n",
       "3           NaN         NaN          NaN      NaN       NaN      NaN  NaN   \n",
       "4           NaN         NaN          NaN      NaN       NaN      NaN  NaN   \n",
       "\n",
       "   GEO_OFFSET_EAST  GEO_OFFSET_NORTH  GEO_LATITUDE  GEO_LONGITUDE  WOA  \\\n",
       "0              NaN               NaN           NaN            NaN  NaN   \n",
       "1              NaN               NaN           NaN            NaN  NaN   \n",
       "2              NaN               NaN           NaN            NaN  NaN   \n",
       "3              NaN               NaN           NaN            NaN  NaN   \n",
       "4              NaN               NaN           NaN            NaN  NaN   \n",
       "\n",
       "  TANK_SETTING SOURCE  \n",
       "0          NaN    NaN  \n",
       "1          NaN    NaN  \n",
       "2          NaN    NaN  \n",
       "3          NaN    NaN  \n",
       "4          NaN    NaN  "
      ]
     },
     "execution_count": 56,
     "metadata": {},
     "output_type": "execute_result"
    }
   ],
   "source": [
    "merged_data.head()"
   ]
  },
  {
   "cell_type": "code",
   "execution_count": 57,
   "metadata": {},
   "outputs": [
    {
     "data": {
      "text/plain": [
       "(12887, 52)"
      ]
     },
     "execution_count": 57,
     "metadata": {},
     "output_type": "execute_result"
    }
   ],
   "source": [
    "merged_data.shape"
   ]
  },
  {
   "cell_type": "code",
   "execution_count": 58,
   "metadata": {},
   "outputs": [
    {
     "data": {
      "text/plain": [
       "(15509, 28)"
      ]
     },
     "execution_count": 58,
     "metadata": {},
     "output_type": "execute_result"
    }
   ],
   "source": [
    "dataPROS.shape"
   ]
  },
  {
   "cell_type": "code",
   "execution_count": 59,
   "metadata": {},
   "outputs": [
    {
     "data": {
      "text/plain": [
       "0"
      ]
     },
     "execution_count": 59,
     "metadata": {},
     "output_type": "execute_result"
    }
   ],
   "source": [
    "merged_data['API_NO14'].nunique()"
   ]
  },
  {
   "cell_type": "code",
   "execution_count": 26,
   "metadata": {},
   "outputs": [
    {
     "data": {
      "text/plain": [
       "1513"
      ]
     },
     "execution_count": 26,
     "metadata": {},
     "output_type": "execute_result"
    }
   ],
   "source": [
    "dataPROS['WellName'].nunique()"
   ]
  },
  {
   "cell_type": "code",
   "execution_count": 33,
   "metadata": {},
   "outputs": [],
   "source": [
    "Carry = data['TestComment'][data['TestComment'].str.contains('carried|Carried|CARRIED|CC |cc |inf |Inf |INF |IP | IP ')]\n",
    "Carry = pd.DataFrame(Carry)\n",
    "Carry.count()"
   ]
  },
  {
   "cell_type": "code",
   "execution_count": 34,
   "metadata": {},
   "outputs": [],
   "source": [
    "# pd.set_option('display.max_colwidth', -1)\n",
    "# Carry[Carry['TestComment'].str.contains('PIP')]"
   ]
  },
  {
   "cell_type": "code",
   "execution_count": null,
   "metadata": {},
   "outputs": [],
   "source": []
  },
  {
   "cell_type": "code",
   "execution_count": null,
   "metadata": {},
   "outputs": [],
   "source": []
  },
  {
   "cell_type": "code",
   "execution_count": null,
   "metadata": {},
   "outputs": [],
   "source": []
  },
  {
   "cell_type": "code",
   "execution_count": null,
   "metadata": {},
   "outputs": [],
   "source": []
  },
  {
   "cell_type": "code",
   "execution_count": null,
   "metadata": {},
   "outputs": [],
   "source": []
  },
  {
   "cell_type": "code",
   "execution_count": null,
   "metadata": {},
   "outputs": [],
   "source": []
  },
  {
   "cell_type": "code",
   "execution_count": null,
   "metadata": {},
   "outputs": [],
   "source": []
  }
 ],
 "metadata": {
  "kernelspec": {
   "display_name": "Python 3",
   "language": "python",
   "name": "python3"
  },
  "language_info": {
   "codemirror_mode": {
    "name": "ipython",
    "version": 3
   },
   "file_extension": ".py",
   "mimetype": "text/x-python",
   "name": "python",
   "nbconvert_exporter": "python",
   "pygments_lexer": "ipython3",
   "version": "3.7.0"
  }
 },
 "nbformat": 4,
 "nbformat_minor": 2
}
