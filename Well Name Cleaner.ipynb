{
 "cells": [
  {
   "cell_type": "markdown",
   "metadata": {},
   "source": [
    "# Well Name Cleaner"
   ]
  },
  {
   "cell_type": "code",
   "execution_count": 1,
   "metadata": {},
   "outputs": [
    {
     "ename": "ModuleNotFoundError",
     "evalue": "No module named 'pymssql'",
     "output_type": "error",
     "traceback": [
      "\u001b[1;31m---------------------------------------------------------------------------\u001b[0m",
      "\u001b[1;31mModuleNotFoundError\u001b[0m                       Traceback (most recent call last)",
      "\u001b[1;32m<ipython-input-1-1e95636631c6>\u001b[0m in \u001b[0;36m<module>\u001b[1;34m()\u001b[0m\n\u001b[0;32m      1\u001b[0m \u001b[1;32mimport\u001b[0m \u001b[0mpandas\u001b[0m \u001b[1;32mas\u001b[0m \u001b[0mpd\u001b[0m\u001b[1;33m\u001b[0m\u001b[0m\n\u001b[1;32m----> 2\u001b[1;33m \u001b[1;32mimport\u001b[0m \u001b[0mpymssql\u001b[0m \u001b[1;32mas\u001b[0m \u001b[0mpsql\u001b[0m\u001b[1;33m\u001b[0m\u001b[0m\n\u001b[0m\u001b[0;32m      3\u001b[0m \u001b[1;32mimport\u001b[0m \u001b[0mcx_Oracle\u001b[0m \u001b[1;32mas\u001b[0m \u001b[0mcx\u001b[0m\u001b[1;33m\u001b[0m\u001b[0m\n\u001b[0;32m      4\u001b[0m \u001b[1;32mimport\u001b[0m \u001b[0mnumpy\u001b[0m \u001b[1;32mas\u001b[0m \u001b[0mnp\u001b[0m\u001b[1;33m\u001b[0m\u001b[0m\n\u001b[0;32m      5\u001b[0m \u001b[1;32mimport\u001b[0m \u001b[0mscipy\u001b[0m\u001b[1;33m.\u001b[0m\u001b[0mstats\u001b[0m \u001b[1;32mas\u001b[0m \u001b[0mstats\u001b[0m\u001b[1;33m\u001b[0m\u001b[0m\n",
      "\u001b[1;31mModuleNotFoundError\u001b[0m: No module named 'pymssql'"
     ]
    }
   ],
   "source": [
    "import pandas as pd\n",
    "import pymssql as psql\n",
    "import cx_Oracle as cx\n",
    "import numpy as np\n",
    "import scipy.stats as stats\n",
    "import seaborn as sns\n",
    "import matplotlib.pyplot as plt\n",
    "import datetime as dt\n",
    "from scipy import interpolate, integrate\n",
    "from mpl_toolkits.mplot3d import Axes3D\n",
    "%matplotlib inline\n",
    "\n",
    "from datetime import date\n",
    "from dateutil.relativedelta import relativedelta\n",
    "from sklearn.linear_model import LinearRegression\n",
    "from sklearn.model_selection import GridSearchCV, RandomizedSearchCV, cross_val_score, train_test_split, KFold\n",
    "from sklearn.ensemble import RandomForestRegressor\n",
    "from sklearn import metrics"
   ]
  },
  {
   "cell_type": "code",
   "execution_count": null,
   "metadata": {},
   "outputs": [],
   "source": [
    "pd.options.display.max_columns = None\n",
    "# pd.options.display.max_rows = None"
   ]
  },
  {
   "cell_type": "code",
   "execution_count": null,
   "metadata": {},
   "outputs": [],
   "source": [
    "# Data Directory\n",
    "import os\n",
    "username=os.getlogin()\n",
    "data_dir='C:/Users/'+username+'/Documents/GitHub/well-name-cleaner/'\n",
    "# plk_data_dir='C:/Users/'+username+'/Documents/Data Eval/'"
   ]
  },
  {
   "cell_type": "code",
   "execution_count": null,
   "metadata": {},
   "outputs": [],
   "source": [
    "# Update Queries\n",
    "ansr = False"
   ]
  },
  {
   "cell_type": "code",
   "execution_count": null,
   "metadata": {},
   "outputs": [],
   "source": [
    "# Function for SQL to Dataframe\n",
    "def getSQLData(conType, conString, columnNames, sqlString, dataDir, dataFile\n",
    "               , updateLocal=False, indexCol=None, autoIndex=True):\n",
    "    \n",
    "    if updateLocal==True:\n",
    "        if conType == 'SQL Server': \n",
    "            con=psql.connect(conString[0],conString[1],conString[2],conString[3])\n",
    "        elif conType == 'Oracle':\n",
    "            con=cx.connect(conString)\n",
    "        cur=con.cursor()\n",
    "        cur.execute(sqlString)\n",
    "        fetchedData=cur.fetchall()\n",
    "        result=pd.DataFrame(fetchedData,columns=columnNames)\n",
    "        if not autoIndex:\n",
    "            result.set_index(indexCol,inplace=True)\n",
    "        cur.close()\n",
    "        con.close()\n",
    "        result.to_pickle(dataDir+dataFile)\n",
    "    if updateLocal==False:\n",
    "        try:\n",
    "            result=pd.read_pickle(dataDir+dataFile)\n",
    "            result.columns=columnNames\n",
    "        except IOError:\n",
    "            print('file '+dataFile+' not found')\n",
    "            if conType == 'SQL Server': \n",
    "                con=psql.connect(conString[0],conString[1],conString[2],conString[3])\n",
    "            elif conType == 'Oracle':\n",
    "                con=cx.connect(conString)\n",
    "            cur=con.cursor()\n",
    "            cur.execute(sqlString)\n",
    "            fetchedData=cur.fetchall()\n",
    "            result=pd.DataFrame(fetchedData,columns=columnNames)\n",
    "            if not autoIndex:\n",
    "                result.set_index(indexCol,inplace=True)\n",
    "            cur.close()\n",
    "            con.close()\n",
    "            result.to_pickle(dataDir+dataFile)\n",
    "    return result"
   ]
  },
  {
   "cell_type": "code",
   "execution_count": null,
   "metadata": {},
   "outputs": [],
   "source": [
    "data_file='WellGenData.pkl'\n",
    "\n",
    "con_type='SQL Server'\n",
    "\n",
    "con_string='CKCWBDA2','','',''\n",
    "\n",
    "col_names=[\n",
    "        'API_NO14','WELL_AUTO_NAME','WELL_COMMON_NAME','WELL_COMP_NAME','RESERVOIR'\n",
    "      ,'COMP_TYPE','WELL_STATUS','STATUS_DATE','MOP','WELL_ID'\n",
    "      ,'COMPLETION_ID','WELLBORE_ID','COST_CENTER','OPER_NO','ORG_SEQNO'\n",
    "      ,'RMT_TEAM','UNIT','GEO_OFFSET_EAST','GEO_OFFSET_NORTH','GEO_LATITUDE'\n",
    "      ,'GEO_LONGITUDE','WOA','TANK_SETTING','SOURCE'\n",
    "    ]\n",
    "    \n",
    "sql_string=\"\"\"\n",
    "    SELECT * FROM [BDADB].[dbo].[tbl_Well_Info_General_Detail]\n",
    "    \"\"\"\n",
    "\n",
    "dataWellInfo=getSQLData(con_type,con_string,col_names,sql_string,data_dir,data_file,updateLocal=ansr)\n",
    "print('collected well general info')"
   ]
  },
  {
   "cell_type": "code",
   "execution_count": null,
   "metadata": {},
   "outputs": [],
   "source": [
    "data_file='WellXSPOCTestData.pkl'\n",
    "\n",
    "con_type='SQL Server'\n",
    "\n",
    "con_string='CKCWBDA2','','',''\n",
    "\n",
    "col_names=[\n",
    "        'NodeID','TestDate','Duration','OilRate','WaterRate'\n",
    "      ,'GasRate','TubingPressure','CasingPressure','Runtime','StrokeLength'\n",
    "      ,'FluidAbovePump','Pumpsize','SPM','FlowlineTemp','CasingTemp'\n",
    "      ,'WaterSG','OilAPIGravity','Approved','DateModified','UserID'\n",
    "      ,'CO2','FacilityName','SeparatorNumber','ZoneCode','TestCode'\n",
    "      ,'TotalFluidRate','WaterCut','HPGas','LPGas','CasingGas'\n",
    "      ,'GasLiftGas','GOR','PumpSpeed','FlowLinePressure','TubingTemp'\n",
    "      ,'PumpEfficiency','ChokeSize','WellTestFailCode','WellTestFailReason','PumpIntakePressure'\n",
    "      ,'PumpDischargePressure','PumpIntakeTemp','MotorTemp','DriveCurrent','DriveSpeed'\n",
    "      ,'RodRPM','RodTorque','TriplexDischargePressure','SuctionPressure','LinePressureToSetting'\n",
    "      ,'TestComment','ExportFlag','HighPressureGasRate','CasingGasRate','GasLiftGasRate'\n",
    "      ,'WaterCutMethod','WaterCutSource','TesterType','Source'\n",
    "    ]\n",
    "    \n",
    "sql_string=\"\"\"\n",
    "    SELECT * FROM [BDADB].[dbo].[tbl_Well_XSPOC_Test_Hist]\n",
    "    \"\"\"\n",
    "\n",
    "dataXSPOC=getSQLData(con_type,con_string,col_names,sql_string,data_dir,data_file,updateLocal=ansr)\n",
    "print('collected XSPOC test info')"
   ]
  },
  {
   "cell_type": "code",
   "execution_count": null,
   "metadata": {},
   "outputs": [],
   "source": [
    "dataPI=pd.read_csv(data_dir+'PI Well Testing.csv')\n",
    "print('collected process instruments info')"
   ]
  },
  {
   "cell_type": "code",
   "execution_count": null,
   "metadata": {},
   "outputs": [],
   "source": [
    "dataLab=pd.read_csv(data_dir+'Lab Well Testing.csv', dtype={'Total Cut':np.float64})\n",
    "print('collected Lab Cut info')"
   ]
  },
  {
   "cell_type": "code",
   "execution_count": null,
   "metadata": {},
   "outputs": [],
   "source": [
    "dataPROS=pd.read_csv(data_dir+'PROS Well Testing.csv')\n",
    "print('collected PROS info')"
   ]
  },
  {
   "cell_type": "markdown",
   "metadata": {},
   "source": [
    "## Evaluated Data"
   ]
  },
  {
   "cell_type": "code",
   "execution_count": null,
   "metadata": {},
   "outputs": [],
   "source": []
  },
  {
   "cell_type": "code",
   "execution_count": null,
   "metadata": {},
   "outputs": [],
   "source": []
  },
  {
   "cell_type": "code",
   "execution_count": null,
   "metadata": {},
   "outputs": [],
   "source": []
  },
  {
   "cell_type": "code",
   "execution_count": null,
   "metadata": {},
   "outputs": [],
   "source": []
  }
 ],
 "metadata": {
  "kernelspec": {
   "display_name": "Python 3",
   "language": "python",
   "name": "python3"
  },
  "language_info": {
   "codemirror_mode": {
    "name": "ipython",
    "version": 3
   },
   "file_extension": ".py",
   "mimetype": "text/x-python",
   "name": "python",
   "nbconvert_exporter": "python",
   "pygments_lexer": "ipython3",
   "version": "3.7.0"
  }
 },
 "nbformat": 4,
 "nbformat_minor": 2
}
